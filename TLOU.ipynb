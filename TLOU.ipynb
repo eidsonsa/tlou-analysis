{
  "nbformat": 4,
  "nbformat_minor": 0,
  "metadata": {
    "colab": {
      "provenance": []
    },
    "kernelspec": {
      "name": "python3",
      "display_name": "Python 3"
    },
    "language_info": {
      "name": "python"
    }
  },
  "cells": [
    {
      "cell_type": "code",
      "execution_count": 1,
      "metadata": {
        "id": "9Mg-4RJzYsY9"
      },
      "outputs": [],
      "source": [
        "# Bibliotecas\n",
        "from requests import get\n",
        "from bs4 import BeautifulSoup\n",
        "import pandas as pd\n",
        "import re\n",
        "import matplotlib.pyplot as plt"
      ]
    },
    {
      "cell_type": "code",
      "source": [
        "# Raspagem inicial\n",
        "url = 'https://www.imdb.com/title/tt3581920/episodes?ref_=tt_eps_sm'\n",
        "response = get(url)\n",
        "html_soup = BeautifulSoup(response.text, 'html.parser')\n",
        "\n",
        "episode_containers = html_soup.find_all('div', class_ = 'list_item')\n",
        "len(episode_containers)"
      ],
      "metadata": {
        "colab": {
          "base_uri": "https://localhost:8080/"
        },
        "id": "E4vgxWOaZHDK",
        "outputId": "02f38588-cf6c-44cc-c153-5787fb6e894a"
      },
      "execution_count": 2,
      "outputs": [
        {
          "output_type": "execute_result",
          "data": {
            "text/plain": [
              "9"
            ]
          },
          "metadata": {},
          "execution_count": 2
        }
      ]
    },
    {
      "cell_type": "code",
      "source": [
        "# Criação da lista\n",
        "def get_value(soup):\n",
        "  if soup is None:\n",
        "    return ''\n",
        "  else:\n",
        "    return soup.getText().strip()\n",
        "\n",
        "episodes = []\n",
        "episode_number = 1\n",
        "\n",
        "for ep_container in episode_containers:\n",
        "  title = get_value(ep_container.find('a', itemprop='name'))\n",
        "  release_date = get_value(ep_container.find('div', class_='airdate'))\n",
        "  rating = get_value(ep_container.find('span', class_='ipl-rating-star__rating'))\n",
        "  votings = get_value(ep_container.find('span', class_='ipl-rating-star__total-votes'))\n",
        "  votings = re.sub(\"[^0-9]\", \"\", votings)\n",
        "  description = get_value(ep_container.find('div', class_='item_description'))\n",
        "  episode = 'S1E0' + str(episode_number)\n",
        "  ep_data = [episode, title, release_date, rating, votings, description]\n",
        "  episodes.append(ep_data)\n",
        "  episode_number+=1"
      ],
      "metadata": {
        "id": "VMD7_ycSct20"
      },
      "execution_count": 3,
      "outputs": []
    },
    {
      "cell_type": "code",
      "source": [
        "# DF inicial\n",
        "df_tv = pd.DataFrame(episodes, columns=['episode', 'title', 'release_date', 'rating', 'votings', 'description'])\n",
        "df_tv['release_date'] = pd.to_datetime(df_tv['release_date'])\n",
        "df_tv['rating'] = df_tv['rating'].replace('', '0').astype('float')\n",
        "df_tv['votings'] = df_tv['votings'].replace('', '0').astype('int')\n",
        "\n",
        "# Utilizando apenas episódios lançados até então\n",
        "import datetime\n",
        "df_tv = df_tv[df_tv['release_date'] < datetime.datetime.now()]\n",
        "df_tv"
      ],
      "metadata": {
        "colab": {
          "base_uri": "https://localhost:8080/",
          "height": 434
        },
        "id": "8SbX7wNrg7xw",
        "outputId": "a662c0c4-67dc-4b5a-a348-2c4c014fa57c"
      },
      "execution_count": 4,
      "outputs": [
        {
          "output_type": "execute_result",
          "data": {
            "text/plain": [
              "  episode                             title release_date  rating  votings  \\\n",
              "0   S1E01  When You're Lost in the Darkness   2023-01-16     9.2    96008   \n",
              "1   S1E02                          Infected   2023-01-22     9.1    88681   \n",
              "2   S1E03                   Long, Long Time   2023-01-29     8.0   201625   \n",
              "3   S1E04            Please Hold to My Hand   2023-02-05     8.4    54166   \n",
              "4   S1E05                Endure and Survive   2023-02-10     9.5    59927   \n",
              "5   S1E06                               Kin   2023-02-19     9.0    38088   \n",
              "6   S1E07                       Left Behind   2023-02-26     7.5    34596   \n",
              "\n",
              "                                         description  \n",
              "0  Twenty years after a fungal outbreak ravages t...  \n",
              "1  After escaping the QZ, Joel and Tess clash ove...  \n",
              "2  When a unknown person approaches his compound,...  \n",
              "3  After abandoning their truck in Kansas City, J...  \n",
              "4  While attempting to evade the rebels, Joel and...  \n",
              "5  After ignoring the advice of locals, Joel and ...  \n",
              "6  As Joel fights to survive, Ellie looks back on...  "
            ],
            "text/html": [
              "\n",
              "  <div id=\"df-b311d335-394d-4b6e-b441-5030db7beef9\">\n",
              "    <div class=\"colab-df-container\">\n",
              "      <div>\n",
              "<style scoped>\n",
              "    .dataframe tbody tr th:only-of-type {\n",
              "        vertical-align: middle;\n",
              "    }\n",
              "\n",
              "    .dataframe tbody tr th {\n",
              "        vertical-align: top;\n",
              "    }\n",
              "\n",
              "    .dataframe thead th {\n",
              "        text-align: right;\n",
              "    }\n",
              "</style>\n",
              "<table border=\"1\" class=\"dataframe\">\n",
              "  <thead>\n",
              "    <tr style=\"text-align: right;\">\n",
              "      <th></th>\n",
              "      <th>episode</th>\n",
              "      <th>title</th>\n",
              "      <th>release_date</th>\n",
              "      <th>rating</th>\n",
              "      <th>votings</th>\n",
              "      <th>description</th>\n",
              "    </tr>\n",
              "  </thead>\n",
              "  <tbody>\n",
              "    <tr>\n",
              "      <th>0</th>\n",
              "      <td>S1E01</td>\n",
              "      <td>When You're Lost in the Darkness</td>\n",
              "      <td>2023-01-16</td>\n",
              "      <td>9.2</td>\n",
              "      <td>96008</td>\n",
              "      <td>Twenty years after a fungal outbreak ravages t...</td>\n",
              "    </tr>\n",
              "    <tr>\n",
              "      <th>1</th>\n",
              "      <td>S1E02</td>\n",
              "      <td>Infected</td>\n",
              "      <td>2023-01-22</td>\n",
              "      <td>9.1</td>\n",
              "      <td>88681</td>\n",
              "      <td>After escaping the QZ, Joel and Tess clash ove...</td>\n",
              "    </tr>\n",
              "    <tr>\n",
              "      <th>2</th>\n",
              "      <td>S1E03</td>\n",
              "      <td>Long, Long Time</td>\n",
              "      <td>2023-01-29</td>\n",
              "      <td>8.0</td>\n",
              "      <td>201625</td>\n",
              "      <td>When a unknown person approaches his compound,...</td>\n",
              "    </tr>\n",
              "    <tr>\n",
              "      <th>3</th>\n",
              "      <td>S1E04</td>\n",
              "      <td>Please Hold to My Hand</td>\n",
              "      <td>2023-02-05</td>\n",
              "      <td>8.4</td>\n",
              "      <td>54166</td>\n",
              "      <td>After abandoning their truck in Kansas City, J...</td>\n",
              "    </tr>\n",
              "    <tr>\n",
              "      <th>4</th>\n",
              "      <td>S1E05</td>\n",
              "      <td>Endure and Survive</td>\n",
              "      <td>2023-02-10</td>\n",
              "      <td>9.5</td>\n",
              "      <td>59927</td>\n",
              "      <td>While attempting to evade the rebels, Joel and...</td>\n",
              "    </tr>\n",
              "    <tr>\n",
              "      <th>5</th>\n",
              "      <td>S1E06</td>\n",
              "      <td>Kin</td>\n",
              "      <td>2023-02-19</td>\n",
              "      <td>9.0</td>\n",
              "      <td>38088</td>\n",
              "      <td>After ignoring the advice of locals, Joel and ...</td>\n",
              "    </tr>\n",
              "    <tr>\n",
              "      <th>6</th>\n",
              "      <td>S1E07</td>\n",
              "      <td>Left Behind</td>\n",
              "      <td>2023-02-26</td>\n",
              "      <td>7.5</td>\n",
              "      <td>34596</td>\n",
              "      <td>As Joel fights to survive, Ellie looks back on...</td>\n",
              "    </tr>\n",
              "  </tbody>\n",
              "</table>\n",
              "</div>\n",
              "      <button class=\"colab-df-convert\" onclick=\"convertToInteractive('df-b311d335-394d-4b6e-b441-5030db7beef9')\"\n",
              "              title=\"Convert this dataframe to an interactive table.\"\n",
              "              style=\"display:none;\">\n",
              "        \n",
              "  <svg xmlns=\"http://www.w3.org/2000/svg\" height=\"24px\"viewBox=\"0 0 24 24\"\n",
              "       width=\"24px\">\n",
              "    <path d=\"M0 0h24v24H0V0z\" fill=\"none\"/>\n",
              "    <path d=\"M18.56 5.44l.94 2.06.94-2.06 2.06-.94-2.06-.94-.94-2.06-.94 2.06-2.06.94zm-11 1L8.5 8.5l.94-2.06 2.06-.94-2.06-.94L8.5 2.5l-.94 2.06-2.06.94zm10 10l.94 2.06.94-2.06 2.06-.94-2.06-.94-.94-2.06-.94 2.06-2.06.94z\"/><path d=\"M17.41 7.96l-1.37-1.37c-.4-.4-.92-.59-1.43-.59-.52 0-1.04.2-1.43.59L10.3 9.45l-7.72 7.72c-.78.78-.78 2.05 0 2.83L4 21.41c.39.39.9.59 1.41.59.51 0 1.02-.2 1.41-.59l7.78-7.78 2.81-2.81c.8-.78.8-2.07 0-2.86zM5.41 20L4 18.59l7.72-7.72 1.47 1.35L5.41 20z\"/>\n",
              "  </svg>\n",
              "      </button>\n",
              "      \n",
              "  <style>\n",
              "    .colab-df-container {\n",
              "      display:flex;\n",
              "      flex-wrap:wrap;\n",
              "      gap: 12px;\n",
              "    }\n",
              "\n",
              "    .colab-df-convert {\n",
              "      background-color: #E8F0FE;\n",
              "      border: none;\n",
              "      border-radius: 50%;\n",
              "      cursor: pointer;\n",
              "      display: none;\n",
              "      fill: #1967D2;\n",
              "      height: 32px;\n",
              "      padding: 0 0 0 0;\n",
              "      width: 32px;\n",
              "    }\n",
              "\n",
              "    .colab-df-convert:hover {\n",
              "      background-color: #E2EBFA;\n",
              "      box-shadow: 0px 1px 2px rgba(60, 64, 67, 0.3), 0px 1px 3px 1px rgba(60, 64, 67, 0.15);\n",
              "      fill: #174EA6;\n",
              "    }\n",
              "\n",
              "    [theme=dark] .colab-df-convert {\n",
              "      background-color: #3B4455;\n",
              "      fill: #D2E3FC;\n",
              "    }\n",
              "\n",
              "    [theme=dark] .colab-df-convert:hover {\n",
              "      background-color: #434B5C;\n",
              "      box-shadow: 0px 1px 3px 1px rgba(0, 0, 0, 0.15);\n",
              "      filter: drop-shadow(0px 1px 2px rgba(0, 0, 0, 0.3));\n",
              "      fill: #FFFFFF;\n",
              "    }\n",
              "  </style>\n",
              "\n",
              "      <script>\n",
              "        const buttonEl =\n",
              "          document.querySelector('#df-b311d335-394d-4b6e-b441-5030db7beef9 button.colab-df-convert');\n",
              "        buttonEl.style.display =\n",
              "          google.colab.kernel.accessAllowed ? 'block' : 'none';\n",
              "\n",
              "        async function convertToInteractive(key) {\n",
              "          const element = document.querySelector('#df-b311d335-394d-4b6e-b441-5030db7beef9');\n",
              "          const dataTable =\n",
              "            await google.colab.kernel.invokeFunction('convertToInteractive',\n",
              "                                                     [key], {});\n",
              "          if (!dataTable) return;\n",
              "\n",
              "          const docLinkHtml = 'Like what you see? Visit the ' +\n",
              "            '<a target=\"_blank\" href=https://colab.research.google.com/notebooks/data_table.ipynb>data table notebook</a>'\n",
              "            + ' to learn more about interactive tables.';\n",
              "          element.innerHTML = '';\n",
              "          dataTable['output_type'] = 'display_data';\n",
              "          await google.colab.output.renderOutput(dataTable, element);\n",
              "          const docLink = document.createElement('div');\n",
              "          docLink.innerHTML = docLinkHtml;\n",
              "          element.appendChild(docLink);\n",
              "        }\n",
              "      </script>\n",
              "    </div>\n",
              "  </div>\n",
              "  "
            ]
          },
          "metadata": {},
          "execution_count": 4
        }
      ]
    },
    {
      "cell_type": "code",
      "source": [
        "# Episodes x Ratings\n",
        "plt.plot(df_tv.episode, df_tv.rating)\n",
        "plt.title('TLOU Episodes Ratings')\n",
        "plt.xlabel('Episodes')\n",
        "plt.ylabel('IMDB Rating')\n",
        "plt.savefig('episodes_ratings.png')\n",
        "plt.show()"
      ],
      "metadata": {
        "colab": {
          "base_uri": "https://localhost:8080/",
          "height": 295
        },
        "id": "dPVRPQY4klgu",
        "outputId": "030c2f4b-4566-428f-fdfe-51cf05ad4cf7"
      },
      "execution_count": 5,
      "outputs": [
        {
          "output_type": "display_data",
          "data": {
            "text/plain": [
              "<Figure size 432x288 with 1 Axes>"
            ],
            "image/png": "[encoded data removed]"
          },
          "metadata": {
            "needs_background": "light"
          }
        }
      ]
    },
    {
      "cell_type": "code",
      "source": [
        "# Episodes x Votings\n",
        "plt.bar(df_tv.episode, df_tv.votings)\n",
        "plt.title('TLOU Votings per episode')\n",
        "plt.xlabel('Episodes')\n",
        "plt.ylabel('Votings')\n",
        "plt.savefig('episodes_votings.png')\n",
        "plt.show()"
      ],
      "metadata": {
        "colab": {
          "base_uri": "https://localhost:8080/",
          "height": 295
        },
        "id": "7nA1DIRCtZIj",
        "outputId": "c15c9d4d-746f-4516-d81a-cadded14ca3c"
      },
      "execution_count": 6,
      "outputs": [
        {
          "output_type": "display_data",
          "data": {
            "text/plain": [
              "<Figure size 432x288 with 1 Axes>"
            ],
            "image/png": "[encoded data removed]"
          },
          "metadata": {
            "needs_background": "light"
          }
        }
      ]
    },
    {
      "cell_type": "code",
      "source": [
        "# Episodes x Rating x Votings\n",
        "fig,ax = plt.subplots()\n",
        "ax.bar(df_tv.episode, df_tv.votings,color=\"blue\")\n",
        "ax.set_xlabel(\"Episode\", fontsize = 14)\n",
        "ax.set_ylabel(\"Rating\",\n",
        "              color=\"red\",\n",
        "              fontsize=14)\n",
        "\n",
        "ax2 = ax.twinx()\n",
        "ax2.plot(df_tv.episode,\n",
        "        df_tv.rating,\n",
        "        color=\"red\", \n",
        "        marker=\"o\")\n",
        "ax2.set_ylabel(\"Votings\",color=\"blue\",fontsize=14)\n",
        "plt.savefig('episodes_ratings_votings.png')\n",
        "plt.show()\n"
      ],
      "metadata": {
        "colab": {
          "base_uri": "https://localhost:8080/",
          "height": 283
        },
        "id": "1613FzRaaAw9",
        "outputId": "df623c28-f42f-46fe-ab3d-63b8edf5bbe3"
      },
      "execution_count": 7,
      "outputs": [
        {
          "output_type": "display_data",
          "data": {
            "text/plain": [
              "<Figure size 432x288 with 2 Axes>"
            ],
            "image/png": "[encoded data removed]"
          },
          "metadata": {
            "needs_background": "light"
          }
        }
      ]
    },
    {
      "cell_type": "markdown",
      "source": [
        "# TV and Games Comparison"
      ],
      "metadata": {
        "id": "JBdIfI5MwtY-"
      }
    },
    {
      "cell_type": "code",
      "source": [
        "# Dataframe with games and TV\n",
        "pd_tlou = pd.read_csv('tlou_games.csv')\n",
        "pd_tlou.rename(columns={'Title': 'title', 'Release_Date': 'release_date', 'Console': 'platform', 'Rating': 'rating'}, inplace=True)\n",
        "pd_tlou['release_date'] = pd.to_datetime(pd_tlou['release_date'])\n",
        "tv = {'title': 'The Last of Us - HBO', 'platform': 'TV', 'rating': round(df_tv['rating'].mean(), 2), 'release_date': pd.to_datetime(df_tv.iloc[0]['release_date'])}\n",
        "pd_tlou = pd_tlou.append(tv, ignore_index=True)\n",
        "pd_tlou"
      ],
      "metadata": {
        "colab": {
          "base_uri": "https://localhost:8080/",
          "height": 238
        },
        "id": "e7OxUPacw4Cr",
        "outputId": "597ee383-7ff7-4447-fcbe-981db242376c"
      },
      "execution_count": 8,
      "outputs": [
        {
          "output_type": "execute_result",
          "data": {
            "text/plain": [
              "                                 title release_date         platform  rating\n",
              "0                The Last of Us Part I   2013-06-14    PlayStation 3    9.30\n",
              "1  The Last of Us Part I - Left Behind   2014-02-14  PlayStation 3/4    9.00\n",
              "2   The Last of Us Part I - Remastered   2014-07-30    PlayStation 4    9.50\n",
              "3               The Last of Us Part II   2020-06-19    PlayStation 4    9.50\n",
              "4          The Last of Us Part I - PS5   2021-06-02    PlayStation 5    9.70\n",
              "5                 The Last of Us - HBO   2023-01-16               TV    8.67"
            ],
            "text/html": [
              "\n",
              "  <div id=\"df-2c532483-f7b6-4f06-8c53-c56f9cdf5abd\">\n",
              "    <div class=\"colab-df-container\">\n",
              "      <div>\n",
              "<style scoped>\n",
              "    .dataframe tbody tr th:only-of-type {\n",
              "        vertical-align: middle;\n",
              "    }\n",
              "\n",
              "    .dataframe tbody tr th {\n",
              "        vertical-align: top;\n",
              "    }\n",
              "\n",
              "    .dataframe thead th {\n",
              "        text-align: right;\n",
              "    }\n",
              "</style>\n",
              "<table border=\"1\" class=\"dataframe\">\n",
              "  <thead>\n",
              "    <tr style=\"text-align: right;\">\n",
              "      <th></th>\n",
              "      <th>title</th>\n",
              "      <th>release_date</th>\n",
              "      <th>platform</th>\n",
              "      <th>rating</th>\n",
              "    </tr>\n",
              "  </thead>\n",
              "  <tbody>\n",
              "    <tr>\n",
              "      <th>0</th>\n",
              "      <td>The Last of Us Part I</td>\n",
              "      <td>2013-06-14</td>\n",
              "      <td>PlayStation 3</td>\n",
              "      <td>9.30</td>\n",
              "    </tr>\n",
              "    <tr>\n",
              "      <th>1</th>\n",
              "      <td>The Last of Us Part I - Left Behind</td>\n",
              "      <td>2014-02-14</td>\n",
              "      <td>PlayStation 3/4</td>\n",
              "      <td>9.00</td>\n",
              "    </tr>\n",
              "    <tr>\n",
              "      <th>2</th>\n",
              "      <td>The Last of Us Part I - Remastered</td>\n",
              "      <td>2014-07-30</td>\n",
              "      <td>PlayStation 4</td>\n",
              "      <td>9.50</td>\n",
              "    </tr>\n",
              "    <tr>\n",
              "      <th>3</th>\n",
              "      <td>The Last of Us Part II</td>\n",
              "      <td>2020-06-19</td>\n",
              "      <td>PlayStation 4</td>\n",
              "      <td>9.50</td>\n",
              "    </tr>\n",
              "    <tr>\n",
              "      <th>4</th>\n",
              "      <td>The Last of Us Part I - PS5</td>\n",
              "      <td>2021-06-02</td>\n",
              "      <td>PlayStation 5</td>\n",
              "      <td>9.70</td>\n",
              "    </tr>\n",
              "    <tr>\n",
              "      <th>5</th>\n",
              "      <td>The Last of Us - HBO</td>\n",
              "      <td>2023-01-16</td>\n",
              "      <td>TV</td>\n",
              "      <td>8.67</td>\n",
              "    </tr>\n",
              "  </tbody>\n",
              "</table>\n",
              "</div>\n",
              "      <button class=\"colab-df-convert\" onclick=\"convertToInteractive('df-2c532483-f7b6-4f06-8c53-c56f9cdf5abd')\"\n",
              "              title=\"Convert this dataframe to an interactive table.\"\n",
              "              style=\"display:none;\">\n",
              "        \n",
              "  <svg xmlns=\"http://www.w3.org/2000/svg\" height=\"24px\"viewBox=\"0 0 24 24\"\n",
              "       width=\"24px\">\n",
              "    <path d=\"M0 0h24v24H0V0z\" fill=\"none\"/>\n",
              "    <path d=\"M18.56 5.44l.94 2.06.94-2.06 2.06-.94-2.06-.94-.94-2.06-.94 2.06-2.06.94zm-11 1L8.5 8.5l.94-2.06 2.06-.94-2.06-.94L8.5 2.5l-.94 2.06-2.06.94zm10 10l.94 2.06.94-2.06 2.06-.94-2.06-.94-.94-2.06-.94 2.06-2.06.94z\"/><path d=\"M17.41 7.96l-1.37-1.37c-.4-.4-.92-.59-1.43-.59-.52 0-1.04.2-1.43.59L10.3 9.45l-7.72 7.72c-.78.78-.78 2.05 0 2.83L4 21.41c.39.39.9.59 1.41.59.51 0 1.02-.2 1.41-.59l7.78-7.78 2.81-2.81c.8-.78.8-2.07 0-2.86zM5.41 20L4 18.59l7.72-7.72 1.47 1.35L5.41 20z\"/>\n",
              "  </svg>\n",
              "      </button>\n",
              "      \n",
              "  <style>\n",
              "    .colab-df-container {\n",
              "      display:flex;\n",
              "      flex-wrap:wrap;\n",
              "      gap: 12px;\n",
              "    }\n",
              "\n",
              "    .colab-df-convert {\n",
              "      background-color: #E8F0FE;\n",
              "      border: none;\n",
              "      border-radius: 50%;\n",
              "      cursor: pointer;\n",
              "      display: none;\n",
              "      fill: #1967D2;\n",
              "      height: 32px;\n",
              "      padding: 0 0 0 0;\n",
              "      width: 32px;\n",
              "    }\n",
              "\n",
              "    .colab-df-convert:hover {\n",
              "      background-color: #E2EBFA;\n",
              "      box-shadow: 0px 1px 2px rgba(60, 64, 67, 0.3), 0px 1px 3px 1px rgba(60, 64, 67, 0.15);\n",
              "      fill: #174EA6;\n",
              "    }\n",
              "\n",
              "    [theme=dark] .colab-df-convert {\n",
              "      background-color: #3B4455;\n",
              "      fill: #D2E3FC;\n",
              "    }\n",
              "\n",
              "    [theme=dark] .colab-df-convert:hover {\n",
              "      background-color: #434B5C;\n",
              "      box-shadow: 0px 1px 3px 1px rgba(0, 0, 0, 0.15);\n",
              "      filter: drop-shadow(0px 1px 2px rgba(0, 0, 0, 0.3));\n",
              "      fill: #FFFFFF;\n",
              "    }\n",
              "  </style>\n",
              "\n",
              "      <script>\n",
              "        const buttonEl =\n",
              "          document.querySelector('#df-2c532483-f7b6-4f06-8c53-c56f9cdf5abd button.colab-df-convert');\n",
              "        buttonEl.style.display =\n",
              "          google.colab.kernel.accessAllowed ? 'block' : 'none';\n",
              "\n",
              "        async function convertToInteractive(key) {\n",
              "          const element = document.querySelector('#df-2c532483-f7b6-4f06-8c53-c56f9cdf5abd');\n",
              "          const dataTable =\n",
              "            await google.colab.kernel.invokeFunction('convertToInteractive',\n",
              "                                                     [key], {});\n",
              "          if (!dataTable) return;\n",
              "\n",
              "          const docLinkHtml = 'Like what you see? Visit the ' +\n",
              "            '<a target=\"_blank\" href=https://colab.research.google.com/notebooks/data_table.ipynb>data table notebook</a>'\n",
              "            + ' to learn more about interactive tables.';\n",
              "          element.innerHTML = '';\n",
              "          dataTable['output_type'] = 'display_data';\n",
              "          await google.colab.output.renderOutput(dataTable, element);\n",
              "          const docLink = document.createElement('div');\n",
              "          docLink.innerHTML = docLinkHtml;\n",
              "          element.appendChild(docLink);\n",
              "        }\n",
              "      </script>\n",
              "    </div>\n",
              "  </div>\n",
              "  "
            ]
          },
          "metadata": {},
          "execution_count": 8
        }
      ]
    },
    {
      "cell_type": "code",
      "source": [
        "# Episodes x Votings\n",
        "plt.bar(pd_tlou.title, pd_tlou.rating)\n",
        "plt.title('TLOU Ratings per Title')\n",
        "plt.xticks(pd_tlou.title, pd_tlou.title, rotation='vertical')\n",
        "plt.ylim(8, 10)\n",
        "plt.savefig('titles_ratings.png')\n",
        "plt.show()"
      ],
      "metadata": {
        "id": "GhI8Ud800Ysj",
        "colab": {
          "base_uri": "https://localhost:8080/",
          "height": 441
        },
        "outputId": "91cd4028-a633-4802-a2e7-ea0ec1684d97"
      },
      "execution_count": 9,
      "outputs": [
        {
          "output_type": "display_data",
          "data": {
            "text/plain": [
              "<Figure size 432x288 with 1 Axes>"
            ],
            "image/png": "[encoded data removed]"
          },
          "metadata": {
            "needs_background": "light"
          }
        }
      ]
    }
  ]
}